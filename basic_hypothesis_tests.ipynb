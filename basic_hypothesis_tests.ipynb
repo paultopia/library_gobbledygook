{
  "cells": [
    {
      "metadata": {
        "collapsed": true
      },
      "cell_type": "markdown",
      "source": "- title: Basic Hypothesis Tests\n- tags: week6, statistics\n- date: 2018-12-30"
    },
    {
      "metadata": {},
      "cell_type": "markdown",
      "source": "In this lesson, we're going to very quickly rip through the basic hypothesis tests, their uses, and how to achieve them in Python.  I won't spend a lot of time on this, because the mathematical details are covered in the assigned reading, and, at any rate, I think for practical purposes regression analysis is more important for lawyers.  Also, this is basically AP/undergrad stats material, so you've probably seen it somewhere already. \n\nCoverage: \n\nChi-square\n\nFisher's exact test\n\nF-test/Anova\n\nT-test\n\nBasic nonparametric t-test alternative (Wilcoxon./Mann Whitney)"
    },
    {
      "metadata": {},
      "cell_type": "markdown",
      "source": "## Chi-squared\n\n- Use: test relationship between categorical variables, test whether two samples drawn from the same distribution. \n\n- Legal example: The population of registered voters/drivers license holders/etc. is X% women and Y% men; the jury pool is A% women and B% men. Should we believe that the potential jurors were selected from the whole population? P-value means how likely would we be to get the observed distribution from the underlying population.\n\n- Basic idea: Take a crosstabulation (a.k.a. contingency table) of the sample, and calculate what the expected values of the cells in the table would be from the population.  See if they're crazy different.\n\nSticking with our jury example, suppose we had the following data on our underlying population and our jury pool: \n\n|                  | Women | Men  |\n|------------------|-------|------|\n| Not in Jury Pool | 4850  | 4650 |\n| In Jury Pool     | 150   | 350  |\n"
    },
    {
      "metadata": {},
      "cell_type": "markdown",
      "source": "Here's how we'd do this in Python"
    },
    {
      "metadata": {
        "trusted": true
      },
      "cell_type": "code",
      "source": "from scipy.stats import chi2_contingency\nimport numpy as np",
      "execution_count": 1,
      "outputs": []
    },
    {
      "metadata": {
        "trusted": true
      },
      "cell_type": "code",
      "source": "crosstab = np.array([[4850, 4650], [150, 350]])\nchi2, p, dof, expected = chi2_contingency(crosstab)",
      "execution_count": 2,
      "outputs": []
    },
    {
      "metadata": {
        "trusted": true
      },
      "cell_type": "code",
      "source": "p",
      "execution_count": 3,
      "outputs": [
        {
          "output_type": "execute_result",
          "execution_count": 3,
          "data": {
            "text/plain": "6.802875042267758e-20"
          },
          "metadata": {}
        }
      ]
    },
    {
      "metadata": {
        "trusted": true
      },
      "cell_type": "markdown",
      "source": "Further reading on chi-squared: \n\n- [Khan Academy](https://www.khanacademy.org/math/statistics-probability/inference-categorical-data-chi-square-tests)\n\n- [Scipy documentation](https://docs.scipy.org/doc/scipy/reference/generated/scipy.stats.chi2_contingency.html)\n\n- [A lengthier tutorial in Python](https://machinelearningmastery.com/chi-squared-test-for-machine-learning/)\n\n- [And another](https://towardsdatascience.com/running-chi-square-tests-in-python-with-die-roll-data-b9903817c51b) \n\n- [A nice article describing some of the assumptions of chi-squared in more detail](https://www.ncbi.nlm.nih.gov/pmc/articles/PMC3900058/)\n\nIn our example, I might feel comfortable rejecting the null hypothesis that the jury pool came from the underlying population with a p-value that low. Or, same idea different phrasing, I might reject the null hypothesis that gender and being called to jury service are independent. \n\nBut *maybe not*, because chi-squared is known to be sensitive to sample size---big samples can produce really big test statistics, and hence really small p-values, sort of arbitrarily.  So maybe we should think of a different test. \n\n\n"
    },
    {
      "metadata": {},
      "cell_type": "markdown",
      "source": "## Fisher's exact test\n\nFisher's exact test is an alternative to the chi-squared that used to be a lot less popular before computational power went through the roof.  As the name suggests, it produces better estimates than chi-squared, but at the cost of computational complexity, so even today it's rarely used for big contingency tables (you could use chi-squared for a 4x4 table, a 9x9 table, etc.)  Traditionally, Fisher's exact test is used for small samples that are inappropriate for chi-squared. \n\nBut it's never wrong to conduct an extra test!  (Well, it's wrong if you're doing research and you don't report them all.  We'll talk about this later.  Report every damn test you conduct.)  So let's try it on our big contingency table here."
    },
    {
      "metadata": {
        "trusted": true
      },
      "cell_type": "code",
      "source": "from scipy.stats import fisher_exact",
      "execution_count": 4,
      "outputs": []
    },
    {
      "metadata": {
        "trusted": true
      },
      "cell_type": "code",
      "source": "oddsratio, p = fisher_exact(crosstab)\nprint(p)",
      "execution_count": 6,
      "outputs": [
        {
          "output_type": "stream",
          "text": "2.2248886823458282e-20\n",
          "name": "stdout"
        }
      ]
    },
    {
      "metadata": {},
      "cell_type": "markdown",
      "source": "Also significant!  \n\nFurther reading on Fisher's exact test: \n\n- [Scipy docs](https://docs.scipy.org/doc/scipy/reference/generated/scipy.stats.fisher_exact.html)\n\n- [A biostats person explains chi-squared, binomial, and Fisher tests](http://davidquigley.com/talks/2015/biostatistics/module_07.1.html#fishers-exact-test)\n\n"
    },
    {
      "metadata": {
        "trusted": true
      },
      "cell_type": "code",
      "source": "",
      "execution_count": null,
      "outputs": []
    }
  ],
  "metadata": {
    "kernelspec": {
      "name": "python36",
      "display_name": "Python 3.6",
      "language": "python"
    },
    "language_info": {
      "mimetype": "text/x-python",
      "nbconvert_exporter": "python",
      "name": "python",
      "pygments_lexer": "ipython3",
      "version": "3.6.6",
      "file_extension": ".py",
      "codemirror_mode": {
        "version": 3,
        "name": "ipython"
      }
    }
  },
  "nbformat": 4,
  "nbformat_minor": 2
}
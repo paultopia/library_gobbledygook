{
 "cells": [
  {
   "cell_type": "markdown",
   "metadata": {},
   "source": [
    "- Title: Introduction to Linear Regression (early draft)\n",
    "- Date: 2018-12-21\n",
    "- Tags: statistics, regression, week9"
   ]
  },
  {
   "cell_type": "markdown",
   "metadata": {},
   "source": [
    "The standard technique for measuring the relationship between one or more continuous independent variables and a continuous dependent variable is linear regression. \n",
    "\n",
    "The basic idea of linear regression can be expressed simply. A linear regression is a line (or some more dimensional geometric thingy) that maps the independent variables to the best predicted value for the dependent variable. \n",
    "\n",
    "Let's grab some data (we'll use the stuff from my book again to make it easy) and take a look at an example."
   ]
  },
  {
   "cell_type": "code",
   "execution_count": 3,
   "metadata": {},
   "outputs": [],
   "source": [
    "import warnings\n",
    "warnings.filterwarnings(\"ignore\")\n",
    "\n",
    "import pandas as pd\n",
    "import seaborn as sns\n",
    "df = pd.read_csv(\"http://rulelaw.net/downloads/rol-scores.csv\")"
   ]
  },
  {
   "cell_type": "code",
   "execution_count": 4,
   "metadata": {},
   "outputs": [
    {
     "data": {
      "text/html": [
       "<div>\n",
       "<style scoped>\n",
       "    .dataframe tbody tr th:only-of-type {\n",
       "        vertical-align: middle;\n",
       "    }\n",
       "\n",
       "    .dataframe tbody tr th {\n",
       "        vertical-align: top;\n",
       "    }\n",
       "\n",
       "    .dataframe thead th {\n",
       "        text-align: right;\n",
       "    }\n",
       "</style>\n",
       "<table border=\"1\" class=\"dataframe\">\n",
       "  <thead>\n",
       "    <tr style=\"text-align: right;\">\n",
       "      <th></th>\n",
       "      <th>State</th>\n",
       "      <th>Pop. In Millions for 2012</th>\n",
       "      <th>RoLScore</th>\n",
       "      <th>elec_pros</th>\n",
       "      <th>pol_plur</th>\n",
       "      <th>free_expr</th>\n",
       "      <th>assoc_org</th>\n",
       "      <th>per_auto</th>\n",
       "      <th>2012GDP</th>\n",
       "      <th>hprop</th>\n",
       "      <th>hfisc</th>\n",
       "      <th>hbiz</th>\n",
       "      <th>hlab</th>\n",
       "      <th>htra</th>\n",
       "      <th>hinv</th>\n",
       "    </tr>\n",
       "  </thead>\n",
       "  <tbody>\n",
       "    <tr>\n",
       "      <th>0</th>\n",
       "      <td>Albania</td>\n",
       "      <td>3.2</td>\n",
       "      <td>42.60</td>\n",
       "      <td>8</td>\n",
       "      <td>10</td>\n",
       "      <td>13</td>\n",
       "      <td>8</td>\n",
       "      <td>9</td>\n",
       "      <td>1.264810e+10</td>\n",
       "      <td>30</td>\n",
       "      <td>92.6</td>\n",
       "      <td>81.0</td>\n",
       "      <td>49.0</td>\n",
       "      <td>79.8</td>\n",
       "      <td>65</td>\n",
       "    </tr>\n",
       "    <tr>\n",
       "      <th>1</th>\n",
       "      <td>Argentina</td>\n",
       "      <td>41.1</td>\n",
       "      <td>51.94</td>\n",
       "      <td>11</td>\n",
       "      <td>15</td>\n",
       "      <td>14</td>\n",
       "      <td>11</td>\n",
       "      <td>13</td>\n",
       "      <td>4.755020e+11</td>\n",
       "      <td>15</td>\n",
       "      <td>64.3</td>\n",
       "      <td>60.1</td>\n",
       "      <td>47.4</td>\n",
       "      <td>67.6</td>\n",
       "      <td>40</td>\n",
       "    </tr>\n",
       "    <tr>\n",
       "      <th>2</th>\n",
       "      <td>Australia</td>\n",
       "      <td>22.7</td>\n",
       "      <td>73.28</td>\n",
       "      <td>12</td>\n",
       "      <td>15</td>\n",
       "      <td>16</td>\n",
       "      <td>12</td>\n",
       "      <td>15</td>\n",
       "      <td>1.532410e+12</td>\n",
       "      <td>90</td>\n",
       "      <td>66.4</td>\n",
       "      <td>95.5</td>\n",
       "      <td>83.5</td>\n",
       "      <td>86.2</td>\n",
       "      <td>80</td>\n",
       "    </tr>\n",
       "    <tr>\n",
       "      <th>3</th>\n",
       "      <td>Austria</td>\n",
       "      <td>8.4</td>\n",
       "      <td>73.15</td>\n",
       "      <td>12</td>\n",
       "      <td>15</td>\n",
       "      <td>16</td>\n",
       "      <td>12</td>\n",
       "      <td>15</td>\n",
       "      <td>3.947080e+11</td>\n",
       "      <td>90</td>\n",
       "      <td>51.1</td>\n",
       "      <td>73.6</td>\n",
       "      <td>80.4</td>\n",
       "      <td>86.8</td>\n",
       "      <td>85</td>\n",
       "    </tr>\n",
       "    <tr>\n",
       "      <th>4</th>\n",
       "      <td>Bangladesh</td>\n",
       "      <td>154.7</td>\n",
       "      <td>31.57</td>\n",
       "      <td>9</td>\n",
       "      <td>11</td>\n",
       "      <td>9</td>\n",
       "      <td>8</td>\n",
       "      <td>9</td>\n",
       "      <td>1.163550e+11</td>\n",
       "      <td>20</td>\n",
       "      <td>72.7</td>\n",
       "      <td>68.0</td>\n",
       "      <td>51.9</td>\n",
       "      <td>54.0</td>\n",
       "      <td>55</td>\n",
       "    </tr>\n",
       "  </tbody>\n",
       "</table>\n",
       "</div>"
      ],
      "text/plain": [
       "         State  Pop. In Millions for 2012  RoLScore  elec_pros   pol_plur  \\\n",
       "0     Albania                         3.2     42.60           8        10   \n",
       "1    Argentina                       41.1     51.94          11        15   \n",
       "2   Australia                        22.7     73.28          12        15   \n",
       "3      Austria                        8.4     73.15          12        15   \n",
       "4  Bangladesh                       154.7     31.57           9        11   \n",
       "\n",
       "   free_expr  assoc_org  per_auto       2012GDP  hprop  hfisc  hbiz  hlab  \\\n",
       "0         13          8         9  1.264810e+10     30   92.6  81.0  49.0   \n",
       "1         14         11        13  4.755020e+11     15   64.3  60.1  47.4   \n",
       "2         16         12        15  1.532410e+12     90   66.4  95.5  83.5   \n",
       "3         16         12        15  3.947080e+11     90   51.1  73.6  80.4   \n",
       "4          9          8         9  1.163550e+11     20   72.7  68.0  51.9   \n",
       "\n",
       "   htra  hinv  \n",
       "0  79.8    65  \n",
       "1  67.6    40  \n",
       "2  86.2    80  \n",
       "3  86.8    85  \n",
       "4  54.0    55  "
      ]
     },
     "execution_count": 4,
     "metadata": {},
     "output_type": "execute_result"
    }
   ],
   "source": [
    "df.head()"
   ]
  },
  {
   "cell_type": "code",
   "execution_count": 6,
   "metadata": {},
   "outputs": [
    {
     "data": {
      "text/plain": [
       "<matplotlib.axes._subplots.AxesSubplot at 0x1114f4780>"
      ]
     },
     "execution_count": 6,
     "metadata": {},
     "output_type": "execute_result"
    },
    {
     "data": {
      "image/png": "[encoded data removed]",
      "text/plain": [
       "<Figure size 432x288 with 1 Axes>"
      ]
     },
     "metadata": {
      "needs_background": "light"
     },
     "output_type": "display_data"
    }
   ],
   "source": [
    "sns.scatterplot(df[\"assoc_org\"], df[\"pol_plur\"])"
   ]
  },
  {
   "cell_type": "markdown",
   "metadata": {},
   "source": [
    "It looks like there's a strong relationship between these variables (which is to be expected---they're measures, of, respectively, a country's level of political pluralism and its protections for freedom of association---obviously, countries that respect people's freedom to join groups are likely to get more diverse groups!)\n",
    "\n",
    "The idea of linear regression is: suppose we draw a straight line, the *regression line*, through that graph in such a way as to minimize the distance between the line and the data points on there.  (We actually minimize the squared distances, for mathematical reasons we won't bother with here.)\n",
    "\n",
    "As you may recall from middle school, lines are described by an equation of the form \n",
    "\n",
    "$$y=mx+b$$\n",
    "\n",
    "which translates to \"for everything on the x axis, multiply its value by m and then add b, and you get the corresponding value for the y axis.\"\n",
    "\n",
    "The equation describing our regression line will represent our best prediction for values of y, given values of x. And the distances we minimize are the errors for that prediction, also known as the *residuals*.\n"
   ]
  },
  {
   "cell_type": "code",
   "execution_count": 7,
   "metadata": {},
   "outputs": [
    {
     "data": {
      "text/plain": [
       "<matplotlib.axes._subplots.AxesSubplot at 0x1115cbac8>"
      ]
     },
     "execution_count": 7,
     "metadata": {},
     "output_type": "execute_result"
    },
    {
     "data": {
      "image/png": "[encoded data removed]",
      "text/plain": [
       "<Figure size 432x288 with 1 Axes>"
      ]
     },
     "metadata": {
      "needs_background": "light"
     },
     "output_type": "display_data"
    }
   ],
   "source": [
    "sns.regplot(df[\"assoc_org\"], df[\"pol_plur\"])"
   ]
  },
  {
   "cell_type": "markdown",
   "metadata": {},
   "source": [
    "We can see that our line carves right down the middle of our data.\n",
    "\n",
    "We can also get the equation for the line in the form of a regression model."
   ]
  },
  {
   "cell_type": "code",
   "execution_count": 8,
   "metadata": {},
   "outputs": [
    {
     "name": "stdout",
     "output_type": "stream",
     "text": [
      "                            OLS Regression Results                            \n",
      "==============================================================================\n",
      "Dep. Variable:               pol_plur   R-squared:                       0.844\n",
      "Model:                            OLS   Adj. R-squared:                  0.842\n",
      "Method:                 Least Squares   F-statistic:                     481.8\n",
      "Date:                Thu, 31 Jan 2019   Prob (F-statistic):           1.11e-37\n",
      "Time:                        22:41:46   Log-Likelihood:                -174.68\n",
      "No. Observations:                  91   AIC:                             353.4\n",
      "Df Residuals:                      89   BIC:                             358.4\n",
      "Df Model:                           1                                         \n",
      "Covariance Type:            nonrobust                                         \n",
      "==============================================================================\n",
      "                 coef    std err          t      P>|t|      [0.025      0.975]\n",
      "------------------------------------------------------------------------------\n",
      "Intercept      0.5877      0.524      1.122      0.265      -0.453       1.629\n",
      "assoc_org      1.2551      0.057     21.950      0.000       1.141       1.369\n",
      "==============================================================================\n",
      "Omnibus:                        4.087   Durbin-Watson:                   2.020\n",
      "Prob(Omnibus):                  0.130   Jarque-Bera (JB):                3.869\n",
      "Skew:                          -0.268   Prob(JB):                        0.145\n",
      "Kurtosis:                       3.856   Cond. No.                         27.7\n",
      "==============================================================================\n",
      "\n",
      "Warnings:\n",
      "[1] Standard Errors assume that the covariance matrix of the errors is correctly specified.\n"
     ]
    }
   ],
   "source": [
    "import statsmodels.formula.api as smf\n",
    "\n",
    "mod = smf.ols(formula='pol_plur ~ assoc_org', data=df)\n",
    "\n",
    "res = mod.fit()\n",
    "\n",
    "print(res.summary())"
   ]
  },
  {
   "cell_type": "markdown",
   "metadata": {},
   "source": [
    "We'll talk about what most of this stuff means, but for now, just look down into the second sub-table where it says \"Intercept\" and \"assoc_org\".  The first column of that table provides the coefficients.  Where assoc_org is x and pol_plur is y, this is equivalent to saying that the regression line is \n",
    "\n",
    "$$y = 1.2551x + 0.5877$$\n",
    "\n",
    "and if you look at the chart, that looks about right.  (Let's put a grid on there to make it clearer)"
   ]
  },
  {
   "cell_type": "code",
   "execution_count": 9,
   "metadata": {},
   "outputs": [
    {
     "data": {
      "image/png": "[encoded data removed]",
      "text/plain": [
       "<Figure size 432x288 with 1 Axes>"
      ]
     },
     "metadata": {},
     "output_type": "display_data"
    }
   ],
   "source": [
    "with sns.axes_style(\"darkgrid\"):\n",
    "    sns.regplot(df[\"assoc_org\"], df[\"pol_plur\"])"
   ]
  },
  {
   "cell_type": "markdown",
   "metadata": {},
   "source": [
    "You see how, for example, 10 on the x axis hits the regression line just a little bit above 12.5 (should be around 13) on the y axis.  Our linear regression looks about right.\n",
    "\n",
    "The string formula in the call to statsmodels, incidentally, is just the easiest way to compose a regression in Python. `smf.ols(formula='pol_plur ~ assoc_org', data=df)` means \"run an ordinary least squares (ols) regression with pol_plur as the dependent, or y, variable, and assoc_org as the independent variable.  [Here's a description of how that formula system works](https://www.statsmodels.org/dev/example_formulas.html)\n",
    "\n",
    "The great thing about regression is that we don't have to limit ourselves to one variable.  Here's something we can do: "
   ]
  },
  {
   "cell_type": "code",
   "execution_count": 11,
   "metadata": {},
   "outputs": [
    {
     "name": "stdout",
     "output_type": "stream",
     "text": [
      "                            OLS Regression Results                            \n",
      "==============================================================================\n",
      "Dep. Variable:               pol_plur   R-squared:                       0.868\n",
      "Model:                            OLS   Adj. R-squared:                  0.865\n",
      "Method:                 Least Squares   F-statistic:                     289.1\n",
      "Date:                Thu, 31 Jan 2019   Prob (F-statistic):           2.07e-39\n",
      "Time:                        23:04:16   Log-Likelihood:                -167.12\n",
      "No. Observations:                  91   AIC:                             340.2\n",
      "Df Residuals:                      88   BIC:                             347.8\n",
      "Df Model:                           2                                         \n",
      "Covariance Type:            nonrobust                                         \n",
      "==============================================================================\n",
      "                 coef    std err          t      P>|t|      [0.025      0.975]\n",
      "------------------------------------------------------------------------------\n",
      "Intercept     -0.7985      0.597     -1.338      0.184      -1.984       0.387\n",
      "assoc_org      0.8328      0.118      7.032      0.000       0.597       1.068\n",
      "free_expr      0.4086      0.103      3.986      0.000       0.205       0.612\n",
      "==============================================================================\n",
      "Omnibus:                       13.034   Durbin-Watson:                   1.833\n",
      "Prob(Omnibus):                  0.001   Jarque-Bera (JB):               16.789\n",
      "Skew:                          -0.693   Prob(JB):                     0.000226\n",
      "Kurtosis:                       4.583   Cond. No.                         58.4\n",
      "==============================================================================\n",
      "\n",
      "Warnings:\n",
      "[1] Standard Errors assume that the covariance matrix of the errors is correctly specified.\n"
     ]
    }
   ],
   "source": [
    "multi = smf.ols(formula='pol_plur ~ assoc_org + free_expr', data=df)\n",
    "multires = multi.fit()\n",
    "print(multires.summary())"
   ]
  },
  {
   "cell_type": "markdown",
   "metadata": {},
   "source": [
    "Here, the coefficients have the same meaning, they just describe a plane rather than a line, of the form $y = mx + nz + b$ where we've added z to for free_expr, and n= 0.4086.\n",
    "\n",
    "This is the plane that minimizes squared distance between itself and the data we have, but now in three dimensions.\n",
    "\n",
    "Note that the coefficients on assoc_org and the intercept have changed. This is to be expected.  Conceptually, what this is doing is capturing the relationship between each of the independent variables x and z, if we held the other one constant. "
   ]
  },
  {
   "cell_type": "markdown",
   "metadata": {},
   "source": [
    "[to be contined]"
   ]
  },
  {
   "cell_type": "code",
   "execution_count": null,
   "metadata": {},
   "outputs": [],
   "source": []
  }
 ],
 "metadata": {
  "kernelspec": {
   "display_name": "library_gobbledygook",
   "language": "python",
   "name": "library_gobbledygook"
  },
  "language_info": {
   "codemirror_mode": {
    "name": "ipython",
    "version": 3
   },
   "file_extension": ".py",
   "mimetype": "text/x-python",
   "name": "python",
   "nbconvert_exporter": "python",
   "pygments_lexer": "ipython3",
   "version": "3.6.7"
  }
 },
 "nbformat": 4,
 "nbformat_minor": 2
}
